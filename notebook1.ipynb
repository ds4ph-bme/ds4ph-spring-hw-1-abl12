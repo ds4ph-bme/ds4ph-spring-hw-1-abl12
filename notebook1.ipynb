{
 "cells": [
  {
   "cell_type": "code",
   "execution_count": 1,
   "id": "601f2fcd-2b68-41a6-b72d-8371a23bc2a6",
   "metadata": {},
   "outputs": [],
   "source": [
    "# Abby Liu\n",
    "# aliu62"
   ]
  },
  {
   "cell_type": "code",
   "execution_count": 2,
   "id": "7363082a-ebcb-4a6e-a3a0-6d5a2d06d2c5",
   "metadata": {},
   "outputs": [
    {
     "data": {
      "text/plain": [
       "'\\nData Science for Public Health I Spring 2023\\n'"
      ]
     },
     "execution_count": 2,
     "metadata": {},
     "output_type": "execute_result"
    }
   ],
   "source": [
    "# Simple Calcualtion Code Chunk\n",
    "\n",
    "4 + 4\n",
    "\n",
    "# Text chunk\n",
    "'''\n",
    "Data Science for Public Health I Spring 2023\n",
    "'''"
   ]
  },
  {
   "cell_type": "code",
   "execution_count": null,
   "id": "e3788a60-04de-4476-9160-3bb6dc5cd910",
   "metadata": {},
   "outputs": [],
   "source": []
  }
 ],
 "metadata": {
  "kernelspec": {
   "display_name": "Python 3 (ipykernel)",
   "language": "python",
   "name": "python3"
  },
  "language_info": {
   "codemirror_mode": {
    "name": "ipython",
    "version": 3
   },
   "file_extension": ".py",
   "mimetype": "text/x-python",
   "name": "python",
   "nbconvert_exporter": "python",
   "pygments_lexer": "ipython3",
   "version": "3.9.7"
  }
 },
 "nbformat": 4,
 "nbformat_minor": 5
}
