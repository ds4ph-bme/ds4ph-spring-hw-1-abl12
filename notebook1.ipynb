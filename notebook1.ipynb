{
 "cells": [
  {
   "cell_type": "code",
   "execution_count": 1,
   "id": "601f2fcd-2b68-41a6-b72d-8371a23bc2a6",
   "metadata": {},
   "outputs": [],
   "source": [
    "# Abby Liu\n",
    "# aliu62"
   ]
  },
  {
   "cell_type": "code",
   "execution_count": null,
   "id": "1dd745cb-b3c2-4c02-8e65-9f9ef3c76ea7",
   "metadata": {},
   "outputs": [],
   "source": [
    "# Simple Calculation Code Chunk\n",
    "\n",
    "print(4 + 4)\n",
    "\n",
    "# Text chunk\n",
    "\"\"\"\n",
    "Data Science for Public Health I Spring 2023\n",
    "\n",
    "\"\"\""
   ]
  }
 ],
 "metadata": {
  "kernelspec": {
   "display_name": "Python 3 (ipykernel)",
   "language": "python",
   "name": "python3"
  },
  "language_info": {
   "codemirror_mode": {
    "name": "ipython",
    "version": 3
   },
   "file_extension": ".py",
   "mimetype": "text/x-python",
   "name": "python",
   "nbconvert_exporter": "python",
   "pygments_lexer": "ipython3",
   "version": "3.9.7"
  }
 },
 "nbformat": 4,
 "nbformat_minor": 5
}
