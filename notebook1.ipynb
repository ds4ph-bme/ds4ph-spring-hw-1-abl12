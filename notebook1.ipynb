{
 "cells": [
  {
   "cell_type": "markdown",
   "id": "18e75057-c8cd-4dfe-88a8-71948a93a361",
   "metadata": {},
   "source": [
    "# Abby Liu, aliu62@jhu.edu"
   ]
  },
  {
   "cell_type": "code",
   "execution_count": 1,
   "id": "1dd745cb-b3c2-4c02-8e65-9f9ef3c76ea7",
   "metadata": {},
   "outputs": [
    {
     "data": {
      "text/plain": [
       "8"
      ]
     },
     "execution_count": 1,
     "metadata": {},
     "output_type": "execute_result"
    }
   ],
   "source": [
    "# Simple Calculation Code Chunk\n",
    "4+4"
   ]
  },
  {
   "cell_type": "markdown",
   "id": "3e41286d-769b-4d02-b710-0c0956694cc6",
   "metadata": {},
   "source": [
    "# Data Science for Public Health I (Spring 2023)"
   ]
  }
 ],
 "metadata": {
  "kernelspec": {
   "display_name": "Python 3 (ipykernel)",
   "language": "python",
   "name": "python3"
  },
  "language_info": {
   "codemirror_mode": {
    "name": "ipython",
    "version": 3
   },
   "file_extension": ".py",
   "mimetype": "text/x-python",
   "name": "python",
   "nbconvert_exporter": "python",
   "pygments_lexer": "ipython3",
   "version": "3.9.7"
  }
 },
 "nbformat": 4,
 "nbformat_minor": 5
}
